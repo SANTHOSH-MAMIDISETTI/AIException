{
 "cells": [
  {
   "cell_type": "code",
   "execution_count": 17,
   "metadata": {},
   "outputs": [],
   "source": [
    "import openai\n",
    "\n",
    "openai.api_key_path='api_key.txt'\n",
    "\n",
    "response = openai.Completion.create(\n",
    "  model=\"text-davinci-003\",\n",
    "  prompt='write code to use GPT3 ',\n",
    "  temperature=0.7,\n",
    "  max_tokens=350,\n",
    "  top_p=1,\n",
    "  frequency_penalty=0,\n",
    "  presence_penalty=0\n",
    ")"
   ]
  },
  {
   "cell_type": "code",
   "execution_count": 18,
   "metadata": {},
   "outputs": [
    {
     "name": "stdout",
     "output_type": "stream",
     "text": [
      "\"Subject: Excuse for Being Late to WorkDear [Boss Name],I apologize for being late to work this morning. Unfortunately, I got stuck in traffic on the way to the office due to a car accident. I understand that this is an unacceptable excuse, but it is the truth.I am taking all the necessary steps to ensure that it does not happen again. I recognize that my tardiness this morning was unprofessional and I apologize for it.Sincerely,[Your Name]\"\n",
      "}\n"
     ]
    }
   ],
   "source": [
    "output = str(response['choices'][0]).split('text\": ')[1].replace(r'\\n\\n', '').replace(r'\\n', '')\n",
    "print(output)"
   ]
  }
 ],
 "metadata": {
  "kernelspec": {
   "display_name": "Python 3.7.13 ('SM_FINAL')",
   "language": "python",
   "name": "python3"
  },
  "language_info": {
   "codemirror_mode": {
    "name": "ipython",
    "version": 3
   },
   "file_extension": ".py",
   "mimetype": "text/x-python",
   "name": "python",
   "nbconvert_exporter": "python",
   "pygments_lexer": "ipython3",
   "version": "3.7.13"
  },
  "orig_nbformat": 4,
  "vscode": {
   "interpreter": {
    "hash": "52c20a5f8a824a1bda9be0ed688e4699a4b538bbca29ac8cab24d0c452c6a050"
   }
  }
 },
 "nbformat": 4,
 "nbformat_minor": 2
}
